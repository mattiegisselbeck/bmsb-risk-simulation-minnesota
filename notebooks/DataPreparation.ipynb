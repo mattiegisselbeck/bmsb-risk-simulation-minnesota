{
 "cells": [
  {
   "cell_type": "markdown",
   "metadata": {},
   "source": [
    "# Brown Marmorated Stink Bug (BMSB) Risk Analysis in Minnesota: ETL and Data Preparation\n",
    "\n",
    "Contributors: Mattie Gisselbeck and Luke Zaruba\n",
    "\n",
    "Description: This notebook implements an automated ETL (Extract, Transform, Load) pipeline to prepare and clean data for analysis.\n",
    "\n",
    "Last Updated: March 23, 2024"
   ]
  },
  {
   "cell_type": "markdown",
   "metadata": {},
   "source": [
    "Note: Prior to executing this notebook, it is necessary to execute the <b>extractdata_MnGeo.ps1</b> script to download required datasets which can be found at /bmsb-risk-analysis-minnesota/tools/extractdata_MnGeo.ps1."
   ]
  },
  {
   "cell_type": "markdown",
   "metadata": {},
   "source": [
    "### 0. Import Packages and Modules"
   ]
  },
  {
   "cell_type": "code",
   "execution_count": 7,
   "metadata": {},
   "outputs": [],
   "source": [
    "# Import Packages and Modules\n",
    "import os\n",
    "import sys\n",
    "import arcgis\n",
    "import arcpy\n",
    "import pandas as pd\n",
    "\n",
    "# Import Modules\n",
    "sys.path.append('/arcgis/home/functions')\n",
    "from etl import WeatherLoader, ObservationLoader"
   ]
  },
  {
   "cell_type": "markdown",
   "metadata": {},
   "source": [
    "### 1. Configure Working Directory and GeoDatabase"
   ]
  },
  {
   "cell_type": "code",
   "execution_count": 9,
   "metadata": {},
   "outputs": [
    {
     "name": "stdout",
     "output_type": "stream",
     "text": [
      "GDB Created\n"
     ]
    }
   ],
   "source": [
    "# Set GDB Workspace\n",
    "gdb_directory = r\"/arcgis/home/data/gdb\"\n",
    "gdb_name = \"bmsb_risk_analysis\"\n",
    "gdb_path = os.path.join(gdb_directory, f\"{gdb_name}.gdb\")\n",
    "\n",
    "# Check if GDB Folder Exists\n",
    "if not os.path.exists(gdb_directory):\n",
    "    os.mkdir(gdb_directory)\n",
    "    arcpy.management.CreateFileGDB(gdb_directory, gdb_name)\n",
    "    \n",
    "    print(\"GDB Created\")\n",
    "\n",
    "# Check if Directory and/or GDB Exist\n",
    "else:\n",
    "    if not os.path.exists(gdb_path):\n",
    "        arcpy.management.CreateFileGDB(gdb_directory, gdb_name)\n",
    "        \n",
    "        print(\"Directory Exists and GDB Created\")\n",
    "        \n",
    "    else:\n",
    "        print(\"Directory and GDB Exist: \", gdb_path)"
   ]
  },
  {
   "cell_type": "markdown",
   "metadata": {},
   "source": [
    "### 2. Set File Paths"
   ]
  },
  {
   "cell_type": "code",
   "execution_count": 25,
   "metadata": {},
   "outputs": [],
   "source": [
    "# Set Paths for Downloaded Datasets\n",
    "nlcd_tif = '/arcgis/home/data/mnNLCD/NLCD_2019_Land_Cover.tif'\n",
    "cityboundaries_shp = '/arcgis/home/data/mnCityBoundaries/city_township_unorg.shp'\n",
    "dem_gdb = '/arcgis/home/data/mnDEM/elev_30m_digital_elevation_model.gdb/digital_elevation_model_30m'\n",
    "bmsbobservations_csv = '/arcgis/home/data/mnBMSBObservations/BMSBObservations.csv'"
   ]
  },
  {
   "cell_type": "markdown",
   "metadata": {},
   "source": [
    "### 3. Extract, Transform, and Load RWIS Weather Data and BMSB Observation Data to GDB"
   ]
  },
  {
   "cell_type": "code",
   "execution_count": 21,
   "metadata": {},
   "outputs": [],
   "source": [
    "# Extract and Transform RWIS Weather Data\n",
    "weather_df = WeatherLoader.multi_month([4, 5, 6, 7, 8, 9], 2022)\n",
    "weather_df # Display WX Values are the Mean Daily Values (i.e., Mean Maximum Temperture)\n",
    "\n",
    "# Load RWIS Weather Data to GDB\n",
    "WeatherLoader.load(gdb_path, \"RWISWeather_2022\", weather_df)"
   ]
  },
  {
   "cell_type": "code",
   "execution_count": 26,
   "metadata": {},
   "outputs": [
    {
     "name": "stderr",
     "output_type": "stream",
     "text": [
      "/arcgis/home/functions/etl.py:248: UserWarning: Could not infer format, so each element will be parsed individually, falling back to `dateutil`. To ensure parsing is consistent and as-expected, please specify a format.\n",
      "  self.df[\"ObsDate\"] = self.df[\"ObsDate\"].astype(\"datetime64[ns]\")\n"
     ]
    }
   ],
   "source": [
    "# Extract BMSB Observation Data \n",
    "bmsb_observations = ObservationLoader(bmsbobservations_csv)\n",
    "bmsb_observations.df.head()\n",
    "\n",
    "# Transform BMSB Observation Data \n",
    "bmsb_observations.transform()\n",
    "bmsb_observations.df\n",
    "\n",
    "# Load BMSB Observations Data to GDB\n",
    "bmsb_observations.load(gdb_path, \"BMSB_Observations\")"
   ]
  },
  {
   "cell_type": "markdown",
   "metadata": {},
   "source": [
    "### 4. Reclassify National Land Cover Dataset"
   ]
  },
  {
   "cell_type": "code",
   "execution_count": 23,
   "metadata": {},
   "outputs": [],
   "source": [
    "# Reclassify National Land Cover Dataset to Urban, Agricultural, and Natural\n",
    "reclassified_nlcd_tif = arcpy.sa.Reclassify(\n",
    "    in_raster=nlcd_tif,\n",
    "    reclass_field=\"NLCD_Land\",\n",
    "    remap=\"Unclassified NODATA;'Open Water' 3;'Developed, Open Space' 1;'Developed, Low Intensity' 1;'Developed, Medium Intensity' 1;'Developed, High Intensity' 1;'Barren Land' 3;'Deciduous Forest' 3;'Evergreen Forest' 3;'Mixed Forest' 3;Shrub/Scrub 3;Herbaceous 3;Hay/Pasture 2;'Cultivated Crops' 2;'Woody Wetlands' 3;'Emergent Herbaceous Wetlands' 3\",\n",
    "    missing_values=\"DATA\"\n",
    ")\n",
    "reclassified_nlcd_tif.save(os.path.join(gdb_path, \"Reclassified_NLCD_2019_Land_Cover\"))\n"
   ]
  },
  {
   "cell_type": "markdown",
   "metadata": {},
   "source": [
    "### 5. Load DEM and City Boundary Data to GDB"
   ]
  },
  {
   "cell_type": "code",
   "execution_count": 24,
   "metadata": {},
   "outputs": [
    {
     "data": {
      "text/html": [
       "<div class='gpresult'><h2>Messages</h2><div id='messages' data-messages='[\"Start Time: Saturday, March 23, 2024 5:13:55 PM\",\"Succeeded at Saturday, March 23, 2024 5:13:57 PM (Elapsed Time: 1.81 seconds)\"]' data-show='true'><div id = 'default' /></div></div>"
      ],
      "text/plain": [
       "<Result '/arcgis/home/data/gdb/bmsb_risk_analysis.gdb/City_Boundaries'>"
      ]
     },
     "execution_count": 24,
     "metadata": {},
     "output_type": "execute_result"
    }
   ],
   "source": [
    "# Load DEM to GDB\n",
    "arcpy.management.CopyRaster(dem_gdb, os.path.join(gdb_path, \"Digital_Elevation_Model_30m\"))\n",
    "\n",
    "# Load City Boundary Data to GDB\n",
    "arcpy.conversion.ExportFeatures(\n",
    "    cityboundaries_shp,\n",
    "    os.path.join(gdb_path, \"City_Boundaries\"),\n",
    "    where_clause=\"CTU_CLASS = 'CITY'\",\n",
    ")"
   ]
  },
  {
   "cell_type": "markdown",
   "metadata": {},
   "source": [
    "### 6. Aggregate Data"
   ]
  },
  {
   "cell_type": "code",
   "execution_count": 27,
   "metadata": {},
   "outputs": [
    {
     "data": {
      "text/html": [
       "<div class='gpresult'><h2>Messages</h2><div id='messages' data-messages='[\"Start Time: Saturday, March 23, 2024 5:45:48 PM\",\"Value raster being used as snap raster; this is new default behavior.\",\"WARNING 010632: Unrecognized raster symbology method. Default symbology for the value raster will be used.\",\"Succeeded at Saturday, March 23, 2024 5:46:24 PM (Elapsed Time: 35.88 seconds)\"]' data-show='true'><div id = 'default' /></div></div>"
      ],
      "text/plain": [
       "<geoprocessing server result object at 0x7fb77ec71f60>"
      ]
     },
     "execution_count": 27,
     "metadata": {},
     "output_type": "execute_result"
    }
   ],
   "source": [
    "# Aggregate National Land Cover Dataset to City Boundaries\n",
    "arcpy.sa.ZonalHistogram(\n",
    "    os.path.join(gdb_path, \"City_Boundaries\"),\n",
    "    \"FEATURE_NA\",\n",
    "    os.path.join(gdb_path, \"Reclassified_NLCD_2019_Land_Cover\"),\n",
    "    os.path.join(gdb_path, \"Aggregated_NLCD_2019_Land_Cover\"),\n",
    "    zones_as_rows=\"ZONES_AS_ROWS\"\n",
    ")"
   ]
  },
  {
   "cell_type": "code",
   "execution_count": 28,
   "metadata": {},
   "outputs": [
    {
     "data": {
      "text/html": [
       "<div class='gpresult'><h2>Messages</h2><div id='messages' data-messages='[\"Start Time: Saturday, March 23, 2024 5:52:40 PM\",\"Value raster being used as snap raster; this is new default behavior.\",\"Succeeded at Saturday, March 23, 2024 5:52:58 PM (Elapsed Time: 18.11 seconds)\"]' data-show='true'><div id = 'default' /></div></div>"
      ],
      "text/plain": [
       "<geoprocessing server result object at 0x7fb77ec71ed0>"
      ]
     },
     "execution_count": 28,
     "metadata": {},
     "output_type": "execute_result"
    }
   ],
   "source": [
    "# Aggregate Digital Elevation Model (DEM) to City Boundaries\n",
    "arcpy.ia.ZonalStatisticsAsTable(\n",
    "    os.path.join(gdb_path, \"City_Boundaries\"),\n",
    "    \"FEATURE_NA\",\n",
    "    os.path.join(gdb_path, \"Digital_Elevation_Model_30m\"),\n",
    "    os.path.join(gdb_path, \"Aggregated_Digital_Elevation_Model_30m\"),\n",
    "    ignore_nodata=\"DATA\",\n",
    "    statistics_type=\"ALL\"\n",
    ")"
   ]
  },
  {
   "cell_type": "code",
   "execution_count": 29,
   "metadata": {},
   "outputs": [
    {
     "data": {
      "text/html": [
       "<div class='gpresult'><h2>Messages</h2><div id='messages' data-messages='[\"Start Time: Saturday, March 23, 2024 5:52:59 PM\",\"Succeeded at Saturday, March 23, 2024 5:53:25 PM (Elapsed Time: 25.59 seconds)\"]' data-show='true'><div id = 'default' /></div></div>"
      ],
      "text/plain": [
       "<Result '/arcgis/home/data/gdb/bmsb_risk_analysis.gdb/Aggregated_BMSB_Observations'>"
      ]
     },
     "execution_count": 29,
     "metadata": {},
     "output_type": "execute_result"
    }
   ],
   "source": [
    "# Aggregate BMSB Observation Data to City Boundaries\n",
    "arcpy.analysis.SummarizeWithin(\n",
    "    os.path.join(gdb_path, \"City_Boundaries\"),\n",
    "    os.path.join(gdb_path, \"BMSB_Observations\"),\n",
    "    os.path.join(gdb_path, \"Aggregated_BMSB_Observations\"),\n",
    "    keep_all_polygons=\"KEEP_ALL\",\n",
    "    sum_fields=None,\n",
    "    sum_shape=\"ADD_SHAPE_SUM\",\n",
    "    shape_unit=\"SQUAREKILOMETERS\",\n",
    "    group_field=None,\n",
    "    add_min_maj=\"NO_MIN_MAJ\",\n",
    "    add_group_percent=\"NO_PERCENT\",\n",
    "    out_group_table=None\n",
    ")"
   ]
  },
  {
   "cell_type": "markdown",
   "metadata": {},
   "source": [
    "### 7. Join Data"
   ]
  },
  {
   "cell_type": "code",
   "execution_count": 30,
   "metadata": {},
   "outputs": [
    {
     "data": {
      "text/html": [
       "<div class='gpresult'><h2>Messages</h2><div id='messages' data-messages='[\"Start Time: Saturday, March 23, 2024 5:53:26 PM\",\"Succeeded at Saturday, March 23, 2024 5:53:29 PM (Elapsed Time: 3.08 seconds)\"]' data-show='true'><div id = 'default' /></div></div>"
      ],
      "text/plain": [
       "<Result '/arcgis/home/data/gdb/bmsb_risk_analysis.gdb/Aggregated_RWISWeather_2022'>"
      ]
     },
     "execution_count": 30,
     "metadata": {},
     "output_type": "execute_result"
    }
   ],
   "source": [
    "# Join Nearest Weather Data to City Boundary Data \n",
    "arcpy.analysis.SpatialJoin(\n",
    "    os.path.join(gdb_path, \"City_Boundaries\"),\n",
    "    os.path.join(gdb_path, \"RWISWeather_2022\"),\n",
    "    os.path.join(gdb_path, \"Aggregated_RWISWeather_2022\"),\n",
    "    join_operation=\"JOIN_ONE_TO_ONE\",\n",
    "    join_type=\"KEEP_ALL\",\n",
    "    match_option=\"CLOSEST\",\n",
    "    search_radius=None,\n",
    "    distance_field_name=\"\"\n",
    ")"
   ]
  },
  {
   "cell_type": "code",
   "execution_count": null,
   "metadata": {},
   "outputs": [],
   "source": [
    "# Join Aggregated Data to City Boundary Data \n",
    "joined = arcpy.management.AddJoin(os.path.join(gdb_path, \"City_Boundaries\"),\"FEATURE_NA\", os.path.join(gdb_path, \"Aggregated_Digital_Elevation_Model_30m\"),\"FEATURE_NA\")\n",
    "\n",
    "joined = arcpy.management.AddJoin(\n",
    "    joined,\n",
    "    \"FEATURE_NA\",\n",
    "    os.path.join(gdb_path, \"Aggregated_RWISWeather_2022\"),\n",
    "    \"FEATURE_NA\"\n",
    ")\n",
    "\n",
    "joined = arcpy.management.AddJoin(\n",
    "    joined,\n",
    "    \"FEATURE_NA\",\n",
    "    os.path.join(gdb_path, \"Aggregated_BMSB_Observations\"),\n",
    "    \"FEATURE_NA\"\n",
    ")\n",
    "\n",
    "joined = arcpy.management.AddJoin(\n",
    "    joined,\n",
    "    \"FEATURE_NA\",\n",
    "    os.path.join(gdb_path, \"Aggregated_NLCD_2019_Land_Cover\"),\n",
    "    \"LABEL\"\n",
    ")\n",
    "\n",
    "# Copy Features from Joined Feature Class\n",
    "arcpy.management.CopyFeatures(\n",
    "    joined,\n",
    "    os.path.join(gdb_path, \"Aggregated_City_Boundaries\")\n",
    ")"
   ]
  },
  {
   "cell_type": "code",
   "execution_count": 35,
   "metadata": {},
   "outputs": [
    {
     "data": {
      "text/html": [
       "<div>\n",
       "<style scoped>\n",
       "    .dataframe tbody tr th:only-of-type {\n",
       "        vertical-align: middle;\n",
       "    }\n",
       "\n",
       "    .dataframe tbody tr th {\n",
       "        vertical-align: top;\n",
       "    }\n",
       "\n",
       "    .dataframe thead th {\n",
       "        text-align: right;\n",
       "    }\n",
       "</style>\n",
       "<table border=\"1\" class=\"dataframe\">\n",
       "  <thead>\n",
       "    <tr style=\"text-align: right;\">\n",
       "      <th></th>\n",
       "      <th>OBJECTID</th>\n",
       "      <th>City_Boundaries_GNIS_FEATU</th>\n",
       "      <th>City_Boundaries_FEATURE_NA</th>\n",
       "      <th>City_Boundaries_CTU_CLASS</th>\n",
       "      <th>City_Boundaries_COUNTY_GNI</th>\n",
       "      <th>City_Boundaries_COUNTY_COD</th>\n",
       "      <th>City_Boundaries_COUNTY_NAM</th>\n",
       "      <th>City_Boundaries_POPULATION</th>\n",
       "      <th>City_Boundaries_SHAPE_Leng</th>\n",
       "      <th>Aggregated_Digital_Elevation_Model_30m_OBJECTID</th>\n",
       "      <th>...</th>\n",
       "      <th>Aggregated_BMSB_Observations_COUNTY_NAM</th>\n",
       "      <th>Aggregated_BMSB_Observations_POPULATION</th>\n",
       "      <th>Aggregated_BMSB_Observations_SHAPE_Leng</th>\n",
       "      <th>Aggregated_BMSB_Observations_Point_Count</th>\n",
       "      <th>Aggregated_NLCD_2019_Land_Cover_OBJECTID</th>\n",
       "      <th>Aggregated_NLCD_2019_Land_Cover_LABEL</th>\n",
       "      <th>Aggregated_NLCD_2019_Land_Cover_CLASS_1</th>\n",
       "      <th>Aggregated_NLCD_2019_Land_Cover_CLASS_2</th>\n",
       "      <th>Aggregated_NLCD_2019_Land_Cover_CLASS_3</th>\n",
       "      <th>SHAPE</th>\n",
       "    </tr>\n",
       "  </thead>\n",
       "  <tbody>\n",
       "    <tr>\n",
       "      <th>0</th>\n",
       "      <td>1</td>\n",
       "      <td>2394210</td>\n",
       "      <td>Bluffton</td>\n",
       "      <td>CITY</td>\n",
       "      <td>659501</td>\n",
       "      <td>56</td>\n",
       "      <td>Otter Tail</td>\n",
       "      <td>208</td>\n",
       "      <td>12870.280762</td>\n",
       "      <td>1</td>\n",
       "      <td>...</td>\n",
       "      <td>Otter Tail</td>\n",
       "      <td>208</td>\n",
       "      <td>12870.280762</td>\n",
       "      <td>0</td>\n",
       "      <td>1</td>\n",
       "      <td>Bluffton</td>\n",
       "      <td>794</td>\n",
       "      <td>4350</td>\n",
       "      <td>2728</td>\n",
       "      <td>{\"rings\": [[[329659.49899999984, 5147112.93899...</td>\n",
       "    </tr>\n",
       "    <tr>\n",
       "      <th>1</th>\n",
       "      <td>2</td>\n",
       "      <td>2396539</td>\n",
       "      <td>Sartell</td>\n",
       "      <td>CITY</td>\n",
       "      <td>659517</td>\n",
       "      <td>73</td>\n",
       "      <td>Stearns</td>\n",
       "      <td>17750</td>\n",
       "      <td>90672.68153</td>\n",
       "      <td>2</td>\n",
       "      <td>...</td>\n",
       "      <td>Stearns</td>\n",
       "      <td>17750</td>\n",
       "      <td>90672.68153</td>\n",
       "      <td>0</td>\n",
       "      <td>2</td>\n",
       "      <td>Sartell</td>\n",
       "      <td>19594</td>\n",
       "      <td>7527</td>\n",
       "      <td>4141</td>\n",
       "      <td>{\"rings\": [[[401466.0499999998, 5050916.149], ...</td>\n",
       "    </tr>\n",
       "    <tr>\n",
       "      <th>2</th>\n",
       "      <td>3</td>\n",
       "      <td>2393505</td>\n",
       "      <td>Cambridge</td>\n",
       "      <td>CITY</td>\n",
       "      <td>659475</td>\n",
       "      <td>30</td>\n",
       "      <td>Isanti</td>\n",
       "      <td>10541</td>\n",
       "      <td>65438.361367</td>\n",
       "      <td>3</td>\n",
       "      <td>...</td>\n",
       "      <td>Isanti</td>\n",
       "      <td>10541</td>\n",
       "      <td>65438.361367</td>\n",
       "      <td>1</td>\n",
       "      <td>3</td>\n",
       "      <td>Cambridge</td>\n",
       "      <td>12836</td>\n",
       "      <td>4015</td>\n",
       "      <td>5822</td>\n",
       "      <td>{\"rings\": [[[479383.5999999996, 5046640.25], [...</td>\n",
       "    </tr>\n",
       "    <tr>\n",
       "      <th>3</th>\n",
       "      <td>4</td>\n",
       "      <td>2397203</td>\n",
       "      <td>Waseca</td>\n",
       "      <td>CITY</td>\n",
       "      <td>659525</td>\n",
       "      <td>81</td>\n",
       "      <td>Waseca</td>\n",
       "      <td>9306</td>\n",
       "      <td>31106.933645</td>\n",
       "      <td>4</td>\n",
       "      <td>...</td>\n",
       "      <td>Waseca</td>\n",
       "      <td>9306</td>\n",
       "      <td>31106.933645</td>\n",
       "      <td>0</td>\n",
       "      <td>4</td>\n",
       "      <td>Waseca</td>\n",
       "      <td>9359</td>\n",
       "      <td>1836</td>\n",
       "      <td>4548</td>\n",
       "      <td>{\"rings\": [[[456193.8666000003, 4880132.7445],...</td>\n",
       "    </tr>\n",
       "    <tr>\n",
       "      <th>4</th>\n",
       "      <td>5</td>\n",
       "      <td>2395562</td>\n",
       "      <td>La Crescent</td>\n",
       "      <td>CITY</td>\n",
       "      <td>659473</td>\n",
       "      <td>28</td>\n",
       "      <td>Houston</td>\n",
       "      <td>5365</td>\n",
       "      <td>24285.037149</td>\n",
       "      <td>5</td>\n",
       "      <td>...</td>\n",
       "      <td>Houston</td>\n",
       "      <td>5365</td>\n",
       "      <td>24285.037149</td>\n",
       "      <td>1</td>\n",
       "      <td>5</td>\n",
       "      <td>La Crescent</td>\n",
       "      <td>5607</td>\n",
       "      <td>537</td>\n",
       "      <td>4860</td>\n",
       "      <td>{\"rings\": [[[633758.4579999996, 4853600.790999...</td>\n",
       "    </tr>\n",
       "  </tbody>\n",
       "</table>\n",
       "<p>5 rows × 63 columns</p>\n",
       "</div>"
      ],
      "text/plain": [
       "   OBJECTID  City_Boundaries_GNIS_FEATU City_Boundaries_FEATURE_NA  \\\n",
       "0         1                     2394210                   Bluffton   \n",
       "1         2                     2396539                    Sartell   \n",
       "2         3                     2393505                  Cambridge   \n",
       "3         4                     2397203                     Waseca   \n",
       "4         5                     2395562                La Crescent   \n",
       "\n",
       "  City_Boundaries_CTU_CLASS  City_Boundaries_COUNTY_GNI  \\\n",
       "0                      CITY                      659501   \n",
       "1                      CITY                      659517   \n",
       "2                      CITY                      659475   \n",
       "3                      CITY                      659525   \n",
       "4                      CITY                      659473   \n",
       "\n",
       "  City_Boundaries_COUNTY_COD City_Boundaries_COUNTY_NAM  \\\n",
       "0                         56                 Otter Tail   \n",
       "1                         73                    Stearns   \n",
       "2                         30                     Isanti   \n",
       "3                         81                     Waseca   \n",
       "4                         28                    Houston   \n",
       "\n",
       "   City_Boundaries_POPULATION  City_Boundaries_SHAPE_Leng  \\\n",
       "0                         208                12870.280762   \n",
       "1                       17750                 90672.68153   \n",
       "2                       10541                65438.361367   \n",
       "3                        9306                31106.933645   \n",
       "4                        5365                24285.037149   \n",
       "\n",
       "   Aggregated_Digital_Elevation_Model_30m_OBJECTID  ...  \\\n",
       "0                                                1  ...   \n",
       "1                                                2  ...   \n",
       "2                                                3  ...   \n",
       "3                                                4  ...   \n",
       "4                                                5  ...   \n",
       "\n",
       "  Aggregated_BMSB_Observations_COUNTY_NAM  \\\n",
       "0                              Otter Tail   \n",
       "1                                 Stearns   \n",
       "2                                  Isanti   \n",
       "3                                  Waseca   \n",
       "4                                 Houston   \n",
       "\n",
       "   Aggregated_BMSB_Observations_POPULATION  \\\n",
       "0                                      208   \n",
       "1                                    17750   \n",
       "2                                    10541   \n",
       "3                                     9306   \n",
       "4                                     5365   \n",
       "\n",
       "   Aggregated_BMSB_Observations_SHAPE_Leng  \\\n",
       "0                             12870.280762   \n",
       "1                              90672.68153   \n",
       "2                             65438.361367   \n",
       "3                             31106.933645   \n",
       "4                             24285.037149   \n",
       "\n",
       "   Aggregated_BMSB_Observations_Point_Count  \\\n",
       "0                                         0   \n",
       "1                                         0   \n",
       "2                                         1   \n",
       "3                                         0   \n",
       "4                                         1   \n",
       "\n",
       "   Aggregated_NLCD_2019_Land_Cover_OBJECTID  \\\n",
       "0                                         1   \n",
       "1                                         2   \n",
       "2                                         3   \n",
       "3                                         4   \n",
       "4                                         5   \n",
       "\n",
       "   Aggregated_NLCD_2019_Land_Cover_LABEL  \\\n",
       "0                               Bluffton   \n",
       "1                                Sartell   \n",
       "2                              Cambridge   \n",
       "3                                 Waseca   \n",
       "4                            La Crescent   \n",
       "\n",
       "   Aggregated_NLCD_2019_Land_Cover_CLASS_1  \\\n",
       "0                                      794   \n",
       "1                                    19594   \n",
       "2                                    12836   \n",
       "3                                     9359   \n",
       "4                                     5607   \n",
       "\n",
       "   Aggregated_NLCD_2019_Land_Cover_CLASS_2  \\\n",
       "0                                     4350   \n",
       "1                                     7527   \n",
       "2                                     4015   \n",
       "3                                     1836   \n",
       "4                                      537   \n",
       "\n",
       "   Aggregated_NLCD_2019_Land_Cover_CLASS_3  \\\n",
       "0                                     2728   \n",
       "1                                     4141   \n",
       "2                                     5822   \n",
       "3                                     4548   \n",
       "4                                     4860   \n",
       "\n",
       "                                               SHAPE  \n",
       "0  {\"rings\": [[[329659.49899999984, 5147112.93899...  \n",
       "1  {\"rings\": [[[401466.0499999998, 5050916.149], ...  \n",
       "2  {\"rings\": [[[479383.5999999996, 5046640.25], [...  \n",
       "3  {\"rings\": [[[456193.8666000003, 4880132.7445],...  \n",
       "4  {\"rings\": [[[633758.4579999996, 4853600.790999...  \n",
       "\n",
       "[5 rows x 63 columns]"
      ]
     },
     "execution_count": 35,
     "metadata": {},
     "output_type": "execute_result"
    }
   ],
   "source": [
    "# Display as SEDF\n",
    "pd.DataFrame.spatial.from_featureclass(os.path.join(gdb_path, \"Aggregated_City_Boundaries\")).head()"
   ]
  },
  {
   "cell_type": "markdown",
   "metadata": {},
   "source": [
    "### 8. Clean Data"
   ]
  },
  {
   "cell_type": "code",
   "execution_count": 39,
   "metadata": {},
   "outputs": [
    {
     "data": {
      "text/html": [
       "<div>\n",
       "<style scoped>\n",
       "    .dataframe tbody tr th:only-of-type {\n",
       "        vertical-align: middle;\n",
       "    }\n",
       "\n",
       "    .dataframe tbody tr th {\n",
       "        vertical-align: top;\n",
       "    }\n",
       "\n",
       "    .dataframe thead th {\n",
       "        text-align: right;\n",
       "    }\n",
       "</style>\n",
       "<table border=\"1\" class=\"dataframe\">\n",
       "  <thead>\n",
       "    <tr style=\"text-align: right;\">\n",
       "      <th></th>\n",
       "      <th>OBJECTID</th>\n",
       "      <th>City_Boundaries_GNIS_FEATU</th>\n",
       "      <th>City_Boundaries_FEATURE_NA</th>\n",
       "      <th>City_Boundaries_COUNTY_NAM</th>\n",
       "      <th>City_Boundaries_POPULATION</th>\n",
       "      <th>City_Boundaries_SHAPE_Leng</th>\n",
       "      <th>Aggregated_Digital_Elevation_Model_30m_RANGE</th>\n",
       "      <th>Aggregated_Digital_Elevation_Model_30m_MEAN</th>\n",
       "      <th>Aggregated_Digital_Elevation_Model_30m_STD</th>\n",
       "      <th>Aggregated_Digital_Elevation_Model_30m_MEDIAN</th>\n",
       "      <th>Aggregated_RWISWeather_2022_Join_Count</th>\n",
       "      <th>Aggregated_RWISWeather_2022_max_tmpf</th>\n",
       "      <th>Aggregated_RWISWeather_2022_min_tmpf</th>\n",
       "      <th>Aggregated_RWISWeather_2022_precip</th>\n",
       "      <th>Aggregated_BMSB_Observations_Point_Count</th>\n",
       "      <th>Aggregated_NLCD_2019_Land_Cover_CLASS_1</th>\n",
       "      <th>Aggregated_NLCD_2019_Land_Cover_CLASS_2</th>\n",
       "      <th>Aggregated_NLCD_2019_Land_Cover_CLASS_3</th>\n",
       "      <th>SHAPE</th>\n",
       "    </tr>\n",
       "  </thead>\n",
       "  <tbody>\n",
       "    <tr>\n",
       "      <th>0</th>\n",
       "      <td>1</td>\n",
       "      <td>2394210</td>\n",
       "      <td>Bluffton</td>\n",
       "      <td>Otter Tail</td>\n",
       "      <td>208</td>\n",
       "      <td>12870.280762</td>\n",
       "      <td>84</td>\n",
       "      <td>1347.493968</td>\n",
       "      <td>21.954257</td>\n",
       "      <td>1353</td>\n",
       "      <td>1</td>\n",
       "      <td>69.002294</td>\n",
       "      <td>49.479673</td>\n",
       "      <td>0.000164</td>\n",
       "      <td>0</td>\n",
       "      <td>794</td>\n",
       "      <td>4350</td>\n",
       "      <td>2728</td>\n",
       "      <td>{\"rings\": [[[329659.49899999984, 5147112.93899...</td>\n",
       "    </tr>\n",
       "    <tr>\n",
       "      <th>1</th>\n",
       "      <td>2</td>\n",
       "      <td>2396539</td>\n",
       "      <td>Sartell</td>\n",
       "      <td>Stearns</td>\n",
       "      <td>17750</td>\n",
       "      <td>90672.68153</td>\n",
       "      <td>120</td>\n",
       "      <td>1047.734411</td>\n",
       "      <td>16.158058</td>\n",
       "      <td>1047</td>\n",
       "      <td>1</td>\n",
       "      <td>69.840329</td>\n",
       "      <td>50.023607</td>\n",
       "      <td>0.000492</td>\n",
       "      <td>0</td>\n",
       "      <td>19594</td>\n",
       "      <td>7527</td>\n",
       "      <td>4141</td>\n",
       "      <td>{\"rings\": [[[401466.0499999998, 5050916.149], ...</td>\n",
       "    </tr>\n",
       "    <tr>\n",
       "      <th>2</th>\n",
       "      <td>3</td>\n",
       "      <td>2393505</td>\n",
       "      <td>Cambridge</td>\n",
       "      <td>Isanti</td>\n",
       "      <td>10541</td>\n",
       "      <td>65438.361367</td>\n",
       "      <td>85</td>\n",
       "      <td>949.380606</td>\n",
       "      <td>17.984951</td>\n",
       "      <td>955</td>\n",
       "      <td>1</td>\n",
       "      <td>70.462952</td>\n",
       "      <td>49.659673</td>\n",
       "      <td>0.000273</td>\n",
       "      <td>1</td>\n",
       "      <td>12836</td>\n",
       "      <td>4015</td>\n",
       "      <td>5822</td>\n",
       "      <td>{\"rings\": [[[479383.5999999996, 5046640.25], [...</td>\n",
       "    </tr>\n",
       "    <tr>\n",
       "      <th>3</th>\n",
       "      <td>4</td>\n",
       "      <td>2397203</td>\n",
       "      <td>Waseca</td>\n",
       "      <td>Waseca</td>\n",
       "      <td>9306</td>\n",
       "      <td>31106.933645</td>\n",
       "      <td>56</td>\n",
       "      <td>1136.962191</td>\n",
       "      <td>12.658397</td>\n",
       "      <td>1135</td>\n",
       "      <td>1</td>\n",
       "      <td>72.184263</td>\n",
       "      <td>52.943936</td>\n",
       "      <td>0.000383</td>\n",
       "      <td>0</td>\n",
       "      <td>9359</td>\n",
       "      <td>1836</td>\n",
       "      <td>4548</td>\n",
       "      <td>{\"rings\": [[[456193.8666000003, 4880132.7445],...</td>\n",
       "    </tr>\n",
       "    <tr>\n",
       "      <th>4</th>\n",
       "      <td>5</td>\n",
       "      <td>2395562</td>\n",
       "      <td>La Crescent</td>\n",
       "      <td>Houston</td>\n",
       "      <td>5365</td>\n",
       "      <td>24285.037149</td>\n",
       "      <td>584</td>\n",
       "      <td>725.380685</td>\n",
       "      <td>128.775186</td>\n",
       "      <td>679</td>\n",
       "      <td>1</td>\n",
       "      <td>74.276315</td>\n",
       "      <td>58.962108</td>\n",
       "      <td>0.0</td>\n",
       "      <td>1</td>\n",
       "      <td>5607</td>\n",
       "      <td>537</td>\n",
       "      <td>4860</td>\n",
       "      <td>{\"rings\": [[[633758.4579999996, 4853600.790999...</td>\n",
       "    </tr>\n",
       "  </tbody>\n",
       "</table>\n",
       "</div>"
      ],
      "text/plain": [
       "   OBJECTID  City_Boundaries_GNIS_FEATU City_Boundaries_FEATURE_NA  \\\n",
       "0         1                     2394210                   Bluffton   \n",
       "1         2                     2396539                    Sartell   \n",
       "2         3                     2393505                  Cambridge   \n",
       "3         4                     2397203                     Waseca   \n",
       "4         5                     2395562                La Crescent   \n",
       "\n",
       "  City_Boundaries_COUNTY_NAM  City_Boundaries_POPULATION  \\\n",
       "0                 Otter Tail                         208   \n",
       "1                    Stearns                       17750   \n",
       "2                     Isanti                       10541   \n",
       "3                     Waseca                        9306   \n",
       "4                    Houston                        5365   \n",
       "\n",
       "   City_Boundaries_SHAPE_Leng  Aggregated_Digital_Elevation_Model_30m_RANGE  \\\n",
       "0                12870.280762                                            84   \n",
       "1                 90672.68153                                           120   \n",
       "2                65438.361367                                            85   \n",
       "3                31106.933645                                            56   \n",
       "4                24285.037149                                           584   \n",
       "\n",
       "   Aggregated_Digital_Elevation_Model_30m_MEAN  \\\n",
       "0                                  1347.493968   \n",
       "1                                  1047.734411   \n",
       "2                                   949.380606   \n",
       "3                                  1136.962191   \n",
       "4                                   725.380685   \n",
       "\n",
       "   Aggregated_Digital_Elevation_Model_30m_STD  \\\n",
       "0                                   21.954257   \n",
       "1                                   16.158058   \n",
       "2                                   17.984951   \n",
       "3                                   12.658397   \n",
       "4                                  128.775186   \n",
       "\n",
       "   Aggregated_Digital_Elevation_Model_30m_MEDIAN  \\\n",
       "0                                           1353   \n",
       "1                                           1047   \n",
       "2                                            955   \n",
       "3                                           1135   \n",
       "4                                            679   \n",
       "\n",
       "   Aggregated_RWISWeather_2022_Join_Count  \\\n",
       "0                                       1   \n",
       "1                                       1   \n",
       "2                                       1   \n",
       "3                                       1   \n",
       "4                                       1   \n",
       "\n",
       "   Aggregated_RWISWeather_2022_max_tmpf  Aggregated_RWISWeather_2022_min_tmpf  \\\n",
       "0                             69.002294                             49.479673   \n",
       "1                             69.840329                             50.023607   \n",
       "2                             70.462952                             49.659673   \n",
       "3                             72.184263                             52.943936   \n",
       "4                             74.276315                             58.962108   \n",
       "\n",
       "   Aggregated_RWISWeather_2022_precip  \\\n",
       "0                            0.000164   \n",
       "1                            0.000492   \n",
       "2                            0.000273   \n",
       "3                            0.000383   \n",
       "4                                 0.0   \n",
       "\n",
       "   Aggregated_BMSB_Observations_Point_Count  \\\n",
       "0                                         0   \n",
       "1                                         0   \n",
       "2                                         1   \n",
       "3                                         0   \n",
       "4                                         1   \n",
       "\n",
       "   Aggregated_NLCD_2019_Land_Cover_CLASS_1  \\\n",
       "0                                      794   \n",
       "1                                    19594   \n",
       "2                                    12836   \n",
       "3                                     9359   \n",
       "4                                     5607   \n",
       "\n",
       "   Aggregated_NLCD_2019_Land_Cover_CLASS_2  \\\n",
       "0                                     4350   \n",
       "1                                     7527   \n",
       "2                                     4015   \n",
       "3                                     1836   \n",
       "4                                      537   \n",
       "\n",
       "   Aggregated_NLCD_2019_Land_Cover_CLASS_3  \\\n",
       "0                                     2728   \n",
       "1                                     4141   \n",
       "2                                     5822   \n",
       "3                                     4548   \n",
       "4                                     4860   \n",
       "\n",
       "                                               SHAPE  \n",
       "0  {\"rings\": [[[329659.49899999984, 5147112.93899...  \n",
       "1  {\"rings\": [[[401466.0499999998, 5050916.149], ...  \n",
       "2  {\"rings\": [[[479383.5999999996, 5046640.25], [...  \n",
       "3  {\"rings\": [[[456193.8666000003, 4880132.7445],...  \n",
       "4  {\"rings\": [[[633758.4579999996, 4853600.790999...  "
      ]
     },
     "execution_count": 39,
     "metadata": {},
     "output_type": "execute_result"
    }
   ],
   "source": [
    "# Clean Joined Dataset\n",
    "arcpy.management.DeleteField(\n",
    "    os.path.join(gdb_path, \"Aggregated_City_Boundaries\"),\n",
    "    \"City_Boundaries_GNIS_FEATU;City_Boundaries_FEATURE_NA;City_Boundaries_COUNTY_NAM;City_Boundaries_POPULATION;City_Boundaries_SHAPE_Leng;Aggregated_Digital_Elevation_Model_30m_RANGE;Aggregated_Digital_Elevation_Model_30m_MEAN;Aggregated_Digital_Elevation_Model_30m_STD;Aggregated_Digital_Elevation_Model_30m_MEDIAN;Aggregated_RWISWeather_2022_Join_Count;Aggregated_RWISWeather_2022_max_tmpf;Aggregated_RWISWeather_2022_min_tmpf;Aggregated_RWISWeather_2022_precip;Aggregated_BMSB_Observations_Point_Count;Aggregated_NLCD_2019_Land_Cover_CLASS_1;Aggregated_NLCD_2019_Land_Cover_CLASS_2;Aggregated_NLCD_2019_Land_Cover_CLASS_3\",\n",
    "    \"KEEP_FIELDS\"\n",
    ")\n",
    "\n",
    "# Display as SEDF\n",
    "pd.DataFrame.spatial.from_featureclass(os.path.join(gdb_path, \"Aggregated_City_Boundaries\")).head()"
   ]
  },
  {
   "cell_type": "code",
   "execution_count": 110,
   "metadata": {},
   "outputs": [],
   "source": [
    "# Convert to SEDF\n",
    "df = pd.DataFrame.spatial.from_featureclass(os.path.join(gdb_path, \"Aggregated_City_Boundaries\"))"
   ]
  },
  {
   "cell_type": "code",
   "execution_count": 111,
   "metadata": {},
   "outputs": [],
   "source": [
    "df = df.rename(columns={\n",
    "    'OBJECTID': 'ObjectID',\n",
    "    'City_Boundaries_GNIS_FEATU': 'GNIS',\n",
    "    'City_Boundaries_FEATURE_NA': 'City',\n",
    "    'City_Boundaries_COUNTY_NAM': 'County',\n",
    "    'City_Boundaries_POPULATION': 'Population',\n",
    "    'City_Boundaries_SHAPE_Leng': 'Shape_Length',\n",
    "    \n",
    "    'Aggregated_Digital_Elevation_Model_30m_RANGE': 'DEM: Range',\n",
    "    'Aggregated_Digital_Elevation_Model_30m_MEAN': 'DEM: Mean',\n",
    "    'Aggregated_Digital_Elevation_Model_30m_STD': 'DEM: Standard Deviation',\n",
    "    'Aggregated_Digital_Elevation_Model_30m_MEDIAN': 'DEM: Median',\n",
    "    \n",
    "    'Aggregated_RWISWeather_2022_Join_Count': 'WX: Join Count',\n",
    "    'Aggregated_RWISWeather_2022_max_tmpf': 'WX: Mean Maximum Temperature',\n",
    "    'Aggregated_RWISWeather_2022_min_tmpf': 'WX: Mean Minimum Temperature',\n",
    "    'Aggregated_RWISWeather_2022_precip': 'WX: Mean Precipitation',\n",
    "    'Aggregated_BMSB_Observations_Point_Count': 'BMSB: Observation Count',\n",
    "    \n",
    "    'Aggregated_NLCD_2019_Land_Cover_CLASS_1': 'NLCD: Urban',\n",
    "    'Aggregated_NLCD_2019_Land_Cover_CLASS_2': 'NLCD: Agricultral',\n",
    "    'Aggregated_NLCD_2019_Land_Cover_CLASS_3': 'NLCD: Natural',\n",
    "\n",
    "})\n"
   ]
  },
  {
   "cell_type": "code",
   "execution_count": 112,
   "metadata": {},
   "outputs": [],
   "source": [
    "# Convert NLCD Classifications to Percentages\n",
    "df[\"NLCD: Percent Urban\"] = df[\"NLCD: Urban\"] / (df[\"NLCD: Urban\"] + df[\"NLCD: Agricultral\"] + df[\"NLCD: Natural\"])\n",
    "df[\"NLCD: Percent Agricultral\"] = df[\"NLCD: Agricultral\"] / (df[\"NLCD: Urban\"] + df[\"NLCD: Agricultral\"] + df[\"NLCD: Natural\"])\n",
    "df[\"NLCD: Percent Natural\"] = df[\"NLCD: Natural\"] / (df[\"NLCD: Urban\"] + df[\"NLCD: Agricultral\"] + df[\"NLCD: Natural\"])"
   ]
  },
  {
   "cell_type": "code",
   "execution_count": 113,
   "metadata": {},
   "outputs": [],
   "source": [
    "# Convert BMSB Observation Count to Presence\n",
    "df[\"BMSB: Presence\"] = df[\"BMSB: Observation Count\"].apply(lambda x: 1 if x >= 1 else 0)"
   ]
  },
  {
   "cell_type": "code",
   "execution_count": 114,
   "metadata": {},
   "outputs": [],
   "source": [
    "# Drop Columns\n",
    "df = df.drop(['Shape_Length', 'County', 'GNIS', 'WX: Join Count', 'NLCD: Urban', 'NLCD: Agricultral', 'NLCD: Natural', 'BMSB: Observation Count'], axis=1)"
   ]
  },
  {
   "cell_type": "code",
   "execution_count": 108,
   "metadata": {},
   "outputs": [],
   "source": [
    "df.columns = ['ObjectID', 'City', 'Population',\n",
    "       'DEM: Range', 'DEM: Mean', 'DEM: Standard Deviation',\n",
    "       'DEM: Median', \n",
    "       'WX: Mean Maximum Temperature', 'WX: Mean Minimum Temperature', 'WX: Mean Precipitation',\n",
    "       'BMSB: Presence', 'NLCD: Percent Urban',\n",
    "       'NLCD: Percent Agricultral', 'NLCD: Percent Natural', 'SHAPE'\n",
    "]"
   ]
  }
 ],
 "metadata": {
  "esriNotebookRuntime": {
   "notebookRuntimeName": "ArcGIS Notebook Python 3 Advanced with GPU support",
   "notebookRuntimeVersion": "9.0"
  },
  "kernelspec": {
   "display_name": "Python 3 (ipykernel)",
   "language": "python",
   "name": "python3"
  },
  "language_info": {
   "codemirror_mode": {
    "name": "ipython",
    "version": 3
   },
   "file_extension": ".py",
   "mimetype": "text/x-python",
   "name": "python",
   "nbconvert_exporter": "python",
   "pygments_lexer": "ipython3",
   "version": "3.9.18"
  }
 },
 "nbformat": 4,
 "nbformat_minor": 2
}
